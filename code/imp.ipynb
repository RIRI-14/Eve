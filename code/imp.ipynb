{
 "cells": [
  {
   "cell_type": "code",
   "execution_count": 2,
   "metadata": {
    "_cell_guid": "b1076dfc-b9ad-4769-8c92-a6c4dae69d19",
    "_uuid": "8f2839f25d086af736a60e9eeb907d3b93b6e0e5",
    "tags": []
   },
   "outputs": [],
   "source": [
    "# This Python 3 environment comes with many helpful analytics libraries installed\n",
    "# It is defined by the kaggle/python Docker image: https://github.com/kaggle/docker-python\n",
    "# For example, here's several helpful packages to load\n",
    "\n",
    "import numpy as np # linear algebra\n",
    "import pandas as pd # data processing, CSV file I/O (e.g. pd.read_csv)\n",
    "\n",
    "# Input data files are available in the read-only \"../input/\" directory\n",
    "# For example, running this (by clicking run or pressing Shift+Enter) will list all files under the input directory\n",
    "\n",
    "import os\n",
    "for dirname, _, filenames in os.walk('/kaggle/input'):\n",
    "    for filename in filenames:\n",
    "        print(os.path.join(dirname, filename))\n",
    "\n",
    "# You can write up to 20GB to the current directory (/kaggle/working/) that gets preserved as output when you create a version using \"Save & Run All\" \n",
    "# You can also write temporary files to /kaggle/temp/, but they won't be saved outside of the current session\n",
    "# The goal of preprocessing this DataSet is to convert it into a joint dataset. The joint dataset aims to present a better functionality \n",
    "# by presenting its contents, such that they are arranged in a feasible form for our program.\n",
    "# It contains each song with its respective genre information, release year, and audio features."
   ]
  },
  {
   "cell_type": "code",
   "execution_count": 3,
   "metadata": {
    "tags": []
   },
   "outputs": [],
   "source": [
    "# We use the pandas library to combine the required datasets\n",
    "import pandas as pd"
   ]
  },
  {
   "cell_type": "code",
   "execution_count": null,
   "metadata": {
    "tags": []
   },
   "outputs": [],
   "source": [
    "# Here, 'data_dir' takes the path of the folder which contains the Data Sources files\n",
    "data_dir = 'Desktop/Engage_22/Experiment-1/Saturday/SpotGenTrack/Data Sources'\n",
    "albums_data= pd.read_csv(data_dir + 'spotify_albums.csv')\n",
    "artists_data= pd.read_csv(data_dir + 'spotify_artists.csv')\n",
    "tracks_data= pd.read_csv(data_dir + 'spotify_tracks.csv')"
   ]
  },
  {
   "cell_type": "code",
   "execution_count": 6,
   "metadata": {
    "execution": {
     "iopub.execute_input": "2022-05-27T10:37:54.044675Z",
     "iopub.status.busy": "2022-05-27T10:37:54.044040Z",
     "iopub.status.idle": "2022-05-27T10:37:54.076673Z",
     "shell.execute_reply": "2022-05-27T10:37:54.075632Z",
     "shell.execute_reply.started": "2022-05-27T10:37:54.044629Z"
    }
   },
   "outputs": [],
   "source": [
    "# We display the individual datasets\n",
    "display(albums_data.head())\n",
    "albums_data.columns"
   ]
  },
  {
   "cell_type": "code",
   "execution_count": null,
   "metadata": {},
   "outputs": [],
   "source": [
    "display(artists_data.head())\n",
    "artists_data.columns"
   ]
  },
  {
   "cell_type": "code",
   "execution_count": 7,
   "metadata": {
    "execution": {
     "iopub.execute_input": "2022-05-27T10:39:13.443743Z",
     "iopub.status.busy": "2022-05-27T10:39:13.442895Z",
     "iopub.status.idle": "2022-05-27T10:39:13.486600Z",
     "shell.execute_reply": "2022-05-27T10:39:13.485122Z",
     "shell.execute_reply.started": "2022-05-27T10:39:13.443701Z"
    }
   },
   "outputs": [],
   "source": [
    "display(tracks_data.head())\n",
    "tracks_data.columns"
   ]
  },
  {
   "cell_type": "code",
   "execution_count": 24,
   "metadata": {
    "execution": {
     "iopub.execute_input": "2022-05-27T11:10:28.767796Z",
     "iopub.status.busy": "2022-05-27T11:10:28.767308Z",
     "iopub.status.idle": "2022-05-27T11:10:28.778906Z",
     "shell.execute_reply": "2022-05-27T11:10:28.777570Z",
     "shell.execute_reply.started": "2022-05-27T11:10:28.767762Z"
    }
   },
   "outputs": [],
   "source": [
    "# Join artist genre information and album release date with track dataset\n",
    "# Dropping irrelevant columns and getting only tracks after 1990 \n",
    "\n",
    "def join_genre_and_date(artist_df, album_df, track_df):\n",
    "    album= album_df.rename(columns= {'id': \"album_id\"}).set_index('album_id')\n",
    "\n",
    "    artist= artist_df.rename(columns= {'id':\"artists_id\", 'name': \"artists_name\"}).set_index('artists_id')\n",
    "\n",
    "    track= track_df.set_index('album_id').join (album['release_date'],\n",
    "on='album_id' ) \n",
    "\n",
    "    track.artists_id= track.artists_id.apply(lambda x: x[2: -2]) \n",
    "    track = track.set_index('artists_id').join(artist[['artists_name', 'genres']], on='artists_id' )\n",
    "\n",
    "    track.reset_index (drop=False, inplace=True)\n",
    "    track['release_year']= pd.to_datetime(track.release_date).dt.year\n",
    "    track.drop(columns = ['Unnamed: 0', 'country', 'track_name_prev', 'track_number', 'type'], inplace = True)\n",
    "    return track[track.release_year >= 1990]"
   ]
  },
  {
   "cell_type": "code",
   "execution_count": 30,
   "metadata": {
    "execution": {
     "iopub.execute_input": "2022-05-27T11:15:55.688698Z",
     "iopub.status.busy": "2022-05-27T11:15:55.688204Z",
     "iopub.status.idle": "2022-05-27T11:15:55.698524Z",
     "shell.execute_reply": "2022-05-27T11:15:55.697172Z",
     "shell.execute_reply.started": "2022-05-27T11:15:55.688662Z"
    }
   },
   "outputs": [],
   "source": [
    "# Narrowing down the size of the available DataSet by including only songs from certain genres\n",
    "# The datafrome returned by the 'get_filtered_track_df' belong to the genres mentioned in the 'genres_to_include'\n",
    "def get_filtered_track_df(df, genres_to_include):\n",
    "    df['genres'] = df.genres.apply(lambda x: [i[1:-1] for i in str(x)\n",
    "                                             [1:-1].split(\", \")])\n",
    "    df_exploded = df.explode(\"genres\")[df.explode(\"genres\")\n",
    "                                       [\"genres\"].isin(genres_to_include)]\n",
    "    df_exploded.loc[df_exploded[\"genres\"]==\"korean pop\", \"genres\"] = \"kpop\"\n",
    "    df_exploded_indices = list(df_exploded.index.unique())\n",
    "    df = df[df.index.isin(df_exploded_indices)]\n",
    "    df = df.reset_index(drop=True)\n",
    "    return df"
   ]
  },
  {
   "cell_type": "code",
   "execution_count": 31,
   "metadata": {
    "execution": {
     "iopub.execute_input": "2022-05-27T11:15:58.917568Z",
     "iopub.status.busy": "2022-05-27T11:15:58.917040Z",
     "iopub.status.idle": "2022-05-27T11:16:02.201425Z",
     "shell.execute_reply": "2022-05-27T11:16:02.200215Z",
     "shell.execute_reply.started": "2022-05-27T11:15:58.917528Z"
    }
   },
   "outputs": [],
   "source": [
    "# Final preprocessing for the uri column which will be used later\n",
    "# Further irrelevant columns are dropped at this stage\n",
    "genres_to_include = genres = ['dance pop', 'electronic','electropop', 'hip hop', 'jazz',\n",
    "                              'k-pop', 'latin', 'pop', 'pop rap', 'r&b', 'rock']\n",
    "\n",
    "track_with_year_and_genre= join_genre_and_date(artists_data, albums_data, tracks_data)\n",
    "\n",
    "filtered_track_df= get_filtered_track_df(track_with_year_and_genre, genres_to_include)"
   ]
  },
  {
   "cell_type": "code",
   "execution_count": 26,
   "metadata": {
    "execution": {
     "iopub.execute_input": "2022-05-27T11:13:23.822728Z",
     "iopub.status.busy": "2022-05-27T11:13:23.821934Z",
     "iopub.status.idle": "2022-05-27T11:13:23.832898Z",
     "shell.execute_reply": "2022-05-27T11:13:23.831218Z",
     "shell.execute_reply.started": "2022-05-27T11:13:23.822682Z"
    }
   },
   "outputs": [],
   "source": [
    "# Checking for the pandas version as it prompts errors sometimes\n",
    "pd.__version__"
   ]
  },
  {
   "cell_type": "code",
   "execution_count": 33,
   "metadata": {
    "execution": {
     "iopub.execute_input": "2022-05-27T11:18:21.567346Z",
     "iopub.status.busy": "2022-05-27T11:18:21.566789Z",
     "iopub.status.idle": "2022-05-27T11:18:21.596977Z",
     "shell.execute_reply": "2022-05-27T11:18:21.595985Z",
     "shell.execute_reply.started": "2022-05-27T11:18:21.567307Z"
    }
   },
   "outputs": [],
   "source": [
    "filtered_track_df[\"uri\"]= filtered_track_df[\"uri\"].str.replace(\"spotify:track:\", \"\")\n",
    "filtered_track_df= filtered_track_df.drop(columns= ['analysis_url', 'available_markets'])"
   ]
  },
  {
   "cell_type": "code",
   "execution_count": 34,
   "metadata": {
    "execution": {
     "iopub.execute_input": "2022-05-27T11:19:14.943524Z",
     "iopub.status.busy": "2022-05-27T11:19:14.943126Z",
     "iopub.status.idle": "2022-05-27T11:19:14.984595Z",
     "shell.execute_reply": "2022-05-27T11:19:14.983627Z",
     "shell.execute_reply.started": "2022-05-27T11:19:14.943494Z"
    }
   },
   "outputs": [],
   "source": [
    "display(filtered_track_df.head())\n",
    "filtered_track_df.columns"
   ]
  },
  {
   "cell_type": "code",
   "execution_count": null,
   "metadata": {
    "tags": []
   },
   "outputs": [],
   "source": [
    "# Finally saving the data into a file of our requirement\n",
    "filtered_track_df.to_csv(\"filtered_track_df.csv\", index=False)"
   ]
  }
 ],
 "metadata": {
  "kernelspec": {
   "display_name": "Python 3",
   "language": "python",
   "name": "python3"
  },
  "language_info": {
   "codemirror_mode": {
    "name": "ipython",
    "version": 3
   },
   "file_extension": ".py",
   "mimetype": "text/x-python",
   "name": "python",
   "nbconvert_exporter": "python",
   "pygments_lexer": "ipython3",
   "version": "3.8.8"
  }
 },
 "nbformat": 4,
 "nbformat_minor": 4
}
